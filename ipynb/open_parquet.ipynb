{
 "cells": [
  {
   "cell_type": "code",
   "execution_count": 2,
   "metadata": {},
   "outputs": [
    {
     "name": "stdout",
     "output_type": "stream",
     "text": [
      "Collecting polars\n",
      "  Downloading polars-0.20.23-cp38-abi3-macosx_11_0_arm64.whl.metadata (14 kB)\n",
      "Downloading polars-0.20.23-cp38-abi3-macosx_11_0_arm64.whl (23.0 MB)\n",
      "\u001b[2K   \u001b[90m━━━━━━━━━━━━━━━━━━━━━━━━━━━━━━━━━━━━━━━━\u001b[0m \u001b[32m23.0/23.0 MB\u001b[0m \u001b[31m4.5 MB/s\u001b[0m eta \u001b[36m0:00:00\u001b[0m00:01\u001b[0m00:01\u001b[0m\n",
      "\u001b[?25hInstalling collected packages: polars\n",
      "Successfully installed polars-0.20.23\n",
      "Note: you may need to restart the kernel to use updated packages.\n"
     ]
    }
   ],
   "source": [
    "%pip install polars"
   ]
  },
  {
   "cell_type": "code",
   "execution_count": 3,
   "metadata": {},
   "outputs": [
    {
     "name": "stdout",
     "output_type": "stream",
     "text": [
      "shape: (1, 1)\n",
      "┌─────────────────────────────────┐\n",
      "│ data                            │\n",
      "│ ---                             │\n",
      "│ str                             │\n",
      "╞═════════════════════════════════╡\n",
      "│ [[[\"DP02_0126E\", \"DP05_0050PE\"… │\n",
      "└─────────────────────────────────┘\n"
     ]
    }
   ],
   "source": [
    "import polars as pl\n",
    "\n",
    "def read_snappy_parquet(file_path):    \n",
    "    try:\n",
    "        df = pl.read_parquet(file_path)\n",
    "        return df\n",
    "    except Exception as e:\n",
    "        print(f\"Error: {e}\")\n",
    "\n",
    "if __name__ == \"__main__\":\n",
    "    # file_path = '/Users/rmcrae/Desktop/test.snappy.parquet'\n",
    "    file_path = '/Users/rmcrae/Documents/rah-devs/rah-dev-proj-dq/rf-census-data-ingestion/output/US_data_20240503160659.parquet'\n",
    "    df = read_snappy_parquet(file_path)\n",
    "    print(df)"
   ]
  },
  {
   "cell_type": "code",
   "execution_count": 4,
   "metadata": {},
   "outputs": [
    {
     "ename": "AttributeError",
     "evalue": "'DataFrame' object has no attribute 'with_column'",
     "output_type": "error",
     "traceback": [
      "\u001b[0;31m---------------------------------------------------------------------------\u001b[0m",
      "\u001b[0;31mAttributeError\u001b[0m                            Traceback (most recent call last)",
      "Cell \u001b[0;32mIn[4], line 33\u001b[0m\n\u001b[1;32m     30\u001b[0m json_column \u001b[38;5;241m=\u001b[39m \u001b[38;5;124m'\u001b[39m\u001b[38;5;124mdata\u001b[39m\u001b[38;5;124m'\u001b[39m\n\u001b[1;32m     32\u001b[0m \u001b[38;5;66;03m# Parse the JSON columns\u001b[39;00m\n\u001b[0;32m---> 33\u001b[0m df \u001b[38;5;241m=\u001b[39m \u001b[43mparse_json_columns\u001b[49m\u001b[43m(\u001b[49m\u001b[43mdf\u001b[49m\u001b[43m,\u001b[49m\u001b[43m \u001b[49m\u001b[43mjson_column\u001b[49m\u001b[43m)\u001b[49m\n\u001b[1;32m     35\u001b[0m \u001b[38;5;66;03m# Display the resulting DataFrame\u001b[39;00m\n\u001b[1;32m     36\u001b[0m \u001b[38;5;28mprint\u001b[39m(df)\n",
      "Cell \u001b[0;32mIn[4], line 12\u001b[0m, in \u001b[0;36mparse_json_columns\u001b[0;34m(df, json_column)\u001b[0m\n\u001b[1;32m     10\u001b[0m \u001b[38;5;28;01mdef\u001b[39;00m \u001b[38;5;21mparse_json_columns\u001b[39m(df, json_column):\n\u001b[1;32m     11\u001b[0m     \u001b[38;5;66;03m# Explode the JSON array column to create separate rows\u001b[39;00m\n\u001b[0;32m---> 12\u001b[0m     df \u001b[38;5;241m=\u001b[39m \u001b[43mdf\u001b[49m\u001b[38;5;241;43m.\u001b[39;49m\u001b[43mwith_column\u001b[49m(pl\u001b[38;5;241m.\u001b[39mcol(json_column)\u001b[38;5;241m.\u001b[39mexplode()\u001b[38;5;241m.\u001b[39malias(\u001b[38;5;124m\"\u001b[39m\u001b[38;5;124mjson_row\u001b[39m\u001b[38;5;124m\"\u001b[39m))\n\u001b[1;32m     14\u001b[0m     \u001b[38;5;66;03m# Parse the JSON string in the exploded column\u001b[39;00m\n\u001b[1;32m     15\u001b[0m     df \u001b[38;5;241m=\u001b[39m df\u001b[38;5;241m.\u001b[39mwith_column(df[\u001b[38;5;124m'\u001b[39m\u001b[38;5;124mjson_row\u001b[39m\u001b[38;5;124m'\u001b[39m]\u001b[38;5;241m.\u001b[39mapply(pl\u001b[38;5;241m.\u001b[39mlit(\u001b[38;5;124m\"\u001b[39m\u001b[38;5;124m\"\u001b[39m)\u001b[38;5;241m.\u001b[39mcast(pl\u001b[38;5;241m.\u001b[39mParseJSON)\u001b[38;5;241m.\u001b[39malias(\u001b[38;5;124m\"\u001b[39m\u001b[38;5;124mparsed_json\u001b[39m\u001b[38;5;124m\"\u001b[39m)))\n",
      "\u001b[0;31mAttributeError\u001b[0m: 'DataFrame' object has no attribute 'with_column'"
     ]
    }
   ],
   "source": [
    "# import polars as pl\n",
    "\n",
    "# def read_snappy_parquet(file_path):    \n",
    "#     try:\n",
    "#         df = pl.read_parquet(file_path)\n",
    "#         return df\n",
    "#     except Exception as e:\n",
    "#         print(f\"Error: {e}\")\n",
    "\n",
    "# def parse_json_columns(df, json_column):\n",
    "#     # Explode the JSON array column to create separate rows\n",
    "#     df = df.with_column(pl.col(json_column).explode().alias(\"json_row\"))\n",
    "\n",
    "#     # Parse the JSON string in the exploded column\n",
    "#     df = df.with_column(df['json_row'].apply(pl.lit(\"\").cast(pl.ParseJSON).alias(\"parsed_json\")))\n",
    "\n",
    "#     # Drop the original JSON column and the exploded JSON row\n",
    "#     df = df.drop_in_place(json_column, \"json_row\")\n",
    "\n",
    "#     # Expand the parsed JSON object into separate columns\n",
    "#     df = df.with_columns(df['parsed_json'].unpack())\n",
    "\n",
    "#     return df\n",
    "\n",
    "# if __name__ == \"__main__\":\n",
    "#     file_path = '/Users/rmcrae/Downloads/Zip_data_20240521155128.parquet'\n",
    "#     df = read_snappy_parquet(file_path)\n",
    "    \n",
    "#     # Specify the column containing the JSON data\n",
    "#     json_column = 'data'\n",
    "\n",
    "#     # Parse the JSON columns\n",
    "#     df = parse_json_columns(df, json_column)\n",
    "    \n",
    "#     # Display the resulting DataFrame\n",
    "#     print(df)\n"
   ]
  }
 ],
 "metadata": {
  "interpreter": {
   "hash": "b0fa6594d8f4cbf19f97940f81e996739fb7646882a419484c72d19e05852a7e"
  },
  "kernelspec": {
   "display_name": "Python 3.12.3 64-bit",
   "language": "python",
   "name": "python3"
  },
  "language_info": {
   "codemirror_mode": {
    "name": "ipython",
    "version": 3
   },
   "file_extension": ".py",
   "mimetype": "text/x-python",
   "name": "python",
   "nbconvert_exporter": "python",
   "pygments_lexer": "ipython3",
   "version": "3.9.12"
  },
  "orig_nbformat": 4
 },
 "nbformat": 4,
 "nbformat_minor": 2
}
