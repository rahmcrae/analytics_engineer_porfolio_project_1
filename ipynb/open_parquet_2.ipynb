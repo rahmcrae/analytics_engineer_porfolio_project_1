{
 "cells": [
  {
   "cell_type": "code",
   "execution_count": 3,
   "metadata": {},
   "outputs": [
    {
     "name": "stdout",
     "output_type": "stream",
     "text": [
      "An error occurred: Unable to find a usable engine; tried using: 'pyarrow', 'fastparquet'.\n",
      "A suitable version of pyarrow or fastparquet is required for parquet support.\n",
      "Trying to import the above resulted in these errors:\n",
      " - Missing optional dependency 'pyarrow'. pyarrow is required for parquet support. Use pip or conda to install pyarrow.\n",
      " - Missing optional dependency 'fastparquet'. fastparquet is required for parquet support. Use pip or conda to install fastparquet.\n"
     ]
    }
   ],
   "source": [
    "import pandas as pd\n",
    "\n",
    "def open_parquet_file(file_path):\n",
    "    \"\"\"Opens a Parquet file and returns a Pandas DataFrame.\n",
    "\n",
    "    Args:\n",
    "        file_path (str): The path to the Parquet file.\n",
    "\n",
    "    Returns:\n",
    "        pandas.DataFrame: The DataFrame containing the Parquet file's data.\n",
    "\n",
    "    Raises:\n",
    "        FileNotFoundError: If the specified file does not exist.\n",
    "        ValueError: If an invalid file path is provided.\n",
    "        pd.errors.ParserError: If there's an issue parsing the Parquet file.\n",
    "    \"\"\"\n",
    "\n",
    "    try:\n",
    "        df = pd.read_parquet(file_path)  # Read the Parquet file into a DataFrame\n",
    "        return df\n",
    "    except FileNotFoundError:\n",
    "        raise FileNotFoundError(f\"File not found: {file_path}\")\n",
    "    except ValueError as e:\n",
    "        raise ValueError(f\"Invalid file path or format: {file_path}. Error: {e}\")\n",
    "    except pd.errors.ParserError as e:\n",
    "        raise pd.errors.ParserError(f\"Error parsing Parquet file: {file_path}. Error: {e}\")\n",
    "\n",
    "# Get the file path from the user\n",
    "# file_path = input(\"Enter the path to your Parquet file: \")\n",
    "file_path = '/Users/rmcrae/Downloads/State_data.parquet'\n",
    "\n",
    "# Open and process the Parquet file\n",
    "try:\n",
    "    df = open_parquet_file(file_path)\n",
    "\n",
    "    # Now you can work with the DataFrame (df)\n",
    "    print(\"\\nFirst 5 rows of the DataFrame:\")\n",
    "    print(df.head().to_markdown(index=False, numalign=\"left\", stralign=\"left\"))\n",
    "\n",
    "    print(\"\\nColumns and their types:\")\n",
    "    print(df.info())\n",
    "\n",
    "except Exception as e:\n",
    "    print(f\"An error occurred: {e}\")\n"
   ]
  },
  {
   "cell_type": "code",
   "execution_count": null,
   "metadata": {},
   "outputs": [],
   "source": []
  }
 ],
 "metadata": {
  "interpreter": {
   "hash": "e75e4476a53671405e9dcc9107d899433d26261906800d636185a5f3b1602df9"
  },
  "kernelspec": {
   "display_name": "Python 3.9.18 ('python-env': venv)",
   "language": "python",
   "name": "python3"
  },
  "language_info": {
   "codemirror_mode": {
    "name": "ipython",
    "version": 3
   },
   "file_extension": ".py",
   "mimetype": "text/x-python",
   "name": "python",
   "nbconvert_exporter": "python",
   "pygments_lexer": "ipython3",
   "version": "3.9.18"
  },
  "orig_nbformat": 4
 },
 "nbformat": 4,
 "nbformat_minor": 2
}
